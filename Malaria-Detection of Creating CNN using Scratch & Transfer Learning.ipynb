{
 "cells": [
  {
   "cell_type": "markdown",
   "id": "0815a053",
   "metadata": {},
   "source": [
    "   # Malaria Detection of Creating CNN using Scratch & Transfer Learning"
   ]
  },
  {
   "cell_type": "code",
   "execution_count": 2,
   "id": "f0185eb7",
   "metadata": {},
   "outputs": [],
   "source": [
    "# import the required libraries as shown below\n",
    "\n",
    "from tensorflow.keras.layers import Input, Lambda, Dense, Flatten,Conv2D\n",
    "from tensorflow.keras.models import Model\n",
    "from tensorflow.keras.applications.vgg19 import VGG19\n",
    "from tensorflow.keras.applications.resnet50 import preprocess_input\n",
    "from tensorflow.keras.preprocessing import image\n",
    "from tensorflow.keras.preprocessing.image import ImageDataGenerator,load_img\n",
    "from tensorflow.keras.models import Sequential\n",
    "import numpy as np\n",
    "from glob import glob\n",
    "import matplotlib.pyplot as plt"
   ]
  },
  {
   "cell_type": "code",
   "execution_count": 3,
   "id": "04afb643",
   "metadata": {},
   "outputs": [],
   "source": [
    "import tensorflow as tf"
   ]
  },
  {
   "cell_type": "code",
   "execution_count": 4,
   "id": "5c98c663",
   "metadata": {},
   "outputs": [],
   "source": [
    "# resize all the images to below mentioned size\n",
    "IMAGE_SIZE = [224, 224]\n",
    "\n",
    "train_path = \"Dataset/Train\"\n",
    "valid_path = \"Dataset/Test\""
   ]
  },
  {
   "cell_type": "code",
   "execution_count": 5,
   "id": "5e906955",
   "metadata": {},
   "outputs": [],
   "source": [
    "# Import the Vgg 19 library as shown below and add preprocessing layer to the front of VGG\n",
    "# Here we will be using imagenet weights\n",
    "\n",
    "vgg19 = VGG19(input_shape = IMAGE_SIZE + [3], weights='imagenet', include_top=False)"
   ]
  },
  {
   "cell_type": "code",
   "execution_count": 6,
   "id": "6c0d2b60",
   "metadata": {},
   "outputs": [
    {
     "name": "stdout",
     "output_type": "stream",
     "text": [
      "Model: \"vgg19\"\n",
      "_________________________________________________________________\n",
      " Layer (type)                Output Shape              Param #   \n",
      "=================================================================\n",
      " input_1 (InputLayer)        [(None, 224, 224, 3)]     0         \n",
      "                                                                 \n",
      " block1_conv1 (Conv2D)       (None, 224, 224, 64)      1792      \n",
      "                                                                 \n",
      " block1_conv2 (Conv2D)       (None, 224, 224, 64)      36928     \n",
      "                                                                 \n",
      " block1_pool (MaxPooling2D)  (None, 112, 112, 64)      0         \n",
      "                                                                 \n",
      " block2_conv1 (Conv2D)       (None, 112, 112, 128)     73856     \n",
      "                                                                 \n",
      " block2_conv2 (Conv2D)       (None, 112, 112, 128)     147584    \n",
      "                                                                 \n",
      " block2_pool (MaxPooling2D)  (None, 56, 56, 128)       0         \n",
      "                                                                 \n",
      " block3_conv1 (Conv2D)       (None, 56, 56, 256)       295168    \n",
      "                                                                 \n",
      " block3_conv2 (Conv2D)       (None, 56, 56, 256)       590080    \n",
      "                                                                 \n",
      " block3_conv3 (Conv2D)       (None, 56, 56, 256)       590080    \n",
      "                                                                 \n",
      " block3_conv4 (Conv2D)       (None, 56, 56, 256)       590080    \n",
      "                                                                 \n",
      " block3_pool (MaxPooling2D)  (None, 28, 28, 256)       0         \n",
      "                                                                 \n",
      " block4_conv1 (Conv2D)       (None, 28, 28, 512)       1180160   \n",
      "                                                                 \n",
      " block4_conv2 (Conv2D)       (None, 28, 28, 512)       2359808   \n",
      "                                                                 \n",
      " block4_conv3 (Conv2D)       (None, 28, 28, 512)       2359808   \n",
      "                                                                 \n",
      " block4_conv4 (Conv2D)       (None, 28, 28, 512)       2359808   \n",
      "                                                                 \n",
      " block4_pool (MaxPooling2D)  (None, 14, 14, 512)       0         \n",
      "                                                                 \n",
      " block5_conv1 (Conv2D)       (None, 14, 14, 512)       2359808   \n",
      "                                                                 \n",
      " block5_conv2 (Conv2D)       (None, 14, 14, 512)       2359808   \n",
      "                                                                 \n",
      " block5_conv3 (Conv2D)       (None, 14, 14, 512)       2359808   \n",
      "                                                                 \n",
      " block5_conv4 (Conv2D)       (None, 14, 14, 512)       2359808   \n",
      "                                                                 \n",
      " block5_pool (MaxPooling2D)  (None, 7, 7, 512)         0         \n",
      "                                                                 \n",
      "=================================================================\n",
      "Total params: 20,024,384\n",
      "Trainable params: 20,024,384\n",
      "Non-trainable params: 0\n",
      "_________________________________________________________________\n"
     ]
    }
   ],
   "source": [
    "vgg19.summary()"
   ]
  },
  {
   "cell_type": "code",
   "execution_count": 7,
   "id": "e68c128d",
   "metadata": {},
   "outputs": [],
   "source": [
    "# Don't train existing weights\n",
    "\n",
    "for layer in vgg19.layers:\n",
    "    layer.trainable = False"
   ]
  },
  {
   "cell_type": "code",
   "execution_count": 8,
   "id": "b641324c",
   "metadata": {},
   "outputs": [],
   "source": [
    "# Useful for getting number of output classes\n",
    "\n",
    "folders = glob('Dataset/Train/*')"
   ]
  },
  {
   "cell_type": "code",
   "execution_count": 9,
   "id": "d0ebc076",
   "metadata": {},
   "outputs": [
    {
     "data": {
      "text/plain": [
       "['Dataset/Train\\\\Parasite', 'Dataset/Train\\\\Uninfected']"
      ]
     },
     "execution_count": 9,
     "metadata": {},
     "output_type": "execute_result"
    }
   ],
   "source": [
    "folders"
   ]
  },
  {
   "cell_type": "code",
   "execution_count": 10,
   "id": "2b5cfccd",
   "metadata": {},
   "outputs": [],
   "source": [
    "# Our layers - we can add more layers if we want to add\n",
    "\n",
    "x = Flatten()(vgg19.output)"
   ]
  },
  {
   "cell_type": "code",
   "execution_count": 11,
   "id": "11ec0728",
   "metadata": {},
   "outputs": [],
   "source": [
    "prediction = Dense(len(folders), activation='softmax')(x)\n",
    "\n",
    "# create a model object\n",
    "\n",
    "model = Model(inputs=vgg19.input, outputs=prediction)"
   ]
  },
  {
   "cell_type": "code",
   "execution_count": 12,
   "id": "ed225eb8",
   "metadata": {},
   "outputs": [
    {
     "name": "stdout",
     "output_type": "stream",
     "text": [
      "Model: \"model\"\n",
      "_________________________________________________________________\n",
      " Layer (type)                Output Shape              Param #   \n",
      "=================================================================\n",
      " input_1 (InputLayer)        [(None, 224, 224, 3)]     0         \n",
      "                                                                 \n",
      " block1_conv1 (Conv2D)       (None, 224, 224, 64)      1792      \n",
      "                                                                 \n",
      " block1_conv2 (Conv2D)       (None, 224, 224, 64)      36928     \n",
      "                                                                 \n",
      " block1_pool (MaxPooling2D)  (None, 112, 112, 64)      0         \n",
      "                                                                 \n",
      " block2_conv1 (Conv2D)       (None, 112, 112, 128)     73856     \n",
      "                                                                 \n",
      " block2_conv2 (Conv2D)       (None, 112, 112, 128)     147584    \n",
      "                                                                 \n",
      " block2_pool (MaxPooling2D)  (None, 56, 56, 128)       0         \n",
      "                                                                 \n",
      " block3_conv1 (Conv2D)       (None, 56, 56, 256)       295168    \n",
      "                                                                 \n",
      " block3_conv2 (Conv2D)       (None, 56, 56, 256)       590080    \n",
      "                                                                 \n",
      " block3_conv3 (Conv2D)       (None, 56, 56, 256)       590080    \n",
      "                                                                 \n",
      " block3_conv4 (Conv2D)       (None, 56, 56, 256)       590080    \n",
      "                                                                 \n",
      " block3_pool (MaxPooling2D)  (None, 28, 28, 256)       0         \n",
      "                                                                 \n",
      " block4_conv1 (Conv2D)       (None, 28, 28, 512)       1180160   \n",
      "                                                                 \n",
      " block4_conv2 (Conv2D)       (None, 28, 28, 512)       2359808   \n",
      "                                                                 \n",
      " block4_conv3 (Conv2D)       (None, 28, 28, 512)       2359808   \n",
      "                                                                 \n",
      " block4_conv4 (Conv2D)       (None, 28, 28, 512)       2359808   \n",
      "                                                                 \n",
      " block4_pool (MaxPooling2D)  (None, 14, 14, 512)       0         \n",
      "                                                                 \n",
      " block5_conv1 (Conv2D)       (None, 14, 14, 512)       2359808   \n",
      "                                                                 \n",
      " block5_conv2 (Conv2D)       (None, 14, 14, 512)       2359808   \n",
      "                                                                 \n",
      " block5_conv3 (Conv2D)       (None, 14, 14, 512)       2359808   \n",
      "                                                                 \n",
      " block5_conv4 (Conv2D)       (None, 14, 14, 512)       2359808   \n",
      "                                                                 \n",
      " block5_pool (MaxPooling2D)  (None, 7, 7, 512)         0         \n",
      "                                                                 \n",
      " flatten (Flatten)           (None, 25088)             0         \n",
      "                                                                 \n",
      " dense (Dense)               (None, 2)                 50178     \n",
      "                                                                 \n",
      "=================================================================\n",
      "Total params: 20,074,562\n",
      "Trainable params: 50,178\n",
      "Non-trainable params: 20,024,384\n",
      "_________________________________________________________________\n"
     ]
    }
   ],
   "source": [
    "# View the structure of the model\n",
    "\n",
    "model.summary()"
   ]
  },
  {
   "cell_type": "code",
   "execution_count": 13,
   "id": "d98d4c4c",
   "metadata": {},
   "outputs": [],
   "source": [
    "from tensorflow.keras.layers import MaxPooling2D"
   ]
  },
  {
   "cell_type": "code",
   "execution_count": 14,
   "id": "b818bbe2",
   "metadata": {},
   "outputs": [
    {
     "name": "stdout",
     "output_type": "stream",
     "text": [
      "Model: \"sequential\"\n",
      "_________________________________________________________________\n",
      " Layer (type)                Output Shape              Param #   \n",
      "=================================================================\n",
      " conv2d (Conv2D)             (None, 224, 224, 16)      208       \n",
      "                                                                 \n",
      " max_pooling2d (MaxPooling2D  (None, 112, 112, 16)     0         \n",
      " )                                                               \n",
      "                                                                 \n",
      " conv2d_1 (Conv2D)           (None, 112, 112, 32)      2080      \n",
      "                                                                 \n",
      " max_pooling2d_1 (MaxPooling  (None, 56, 56, 32)       0         \n",
      " 2D)                                                             \n",
      "                                                                 \n",
      " conv2d_2 (Conv2D)           (None, 56, 56, 64)        8256      \n",
      "                                                                 \n",
      " max_pooling2d_2 (MaxPooling  (None, 28, 28, 64)       0         \n",
      " 2D)                                                             \n",
      "                                                                 \n",
      " flatten_1 (Flatten)         (None, 50176)             0         \n",
      "                                                                 \n",
      " dense_1 (Dense)             (None, 500)               25088500  \n",
      "                                                                 \n",
      " dense_2 (Dense)             (None, 2)                 1002      \n",
      "                                                                 \n",
      "=================================================================\n",
      "Total params: 25,100,046\n",
      "Trainable params: 25,100,046\n",
      "Non-trainable params: 0\n",
      "_________________________________________________________________\n"
     ]
    }
   ],
   "source": [
    "### Create a model from scratch using CNN\n",
    "\n",
    "model=Sequential()\n",
    "model.add(Conv2D(filters=16,kernel_size=2,padding=\"same\",activation=\"relu\",input_shape=(224,224,3)))\n",
    "model.add(MaxPooling2D(pool_size=2))\n",
    "model.add(Conv2D(filters=32,kernel_size=2,padding=\"same\",activation =\"relu\"))\n",
    "model.add(MaxPooling2D(pool_size=2))\n",
    "model.add(Conv2D(filters=64,kernel_size=2,padding=\"same\",activation=\"relu\"))\n",
    "model.add(MaxPooling2D(pool_size=2))\n",
    "model.add(Flatten())\n",
    "model.add(Dense(500,activation=\"relu\"))\n",
    "model.add(Dense(2,activation=\"softmax\"))\n",
    "model.summary()"
   ]
  },
  {
   "cell_type": "code",
   "execution_count": 15,
   "id": "55bb66ad",
   "metadata": {},
   "outputs": [],
   "source": [
    "# Now tell the model what cost and optimization method to use\n",
    "\n",
    "model.compile(\n",
    "  loss='categorical_crossentropy',\n",
    "  optimizer='adam',\n",
    "  metrics=['accuracy']\n",
    ")"
   ]
  },
  {
   "cell_type": "code",
   "execution_count": 16,
   "id": "4c5ce4ba",
   "metadata": {},
   "outputs": [],
   "source": [
    "# Use the Image Data Generator to import the images from the dataset\n",
    "\n",
    "from tensorflow.keras.preprocessing.image import ImageDataGenerator\n",
    "\n",
    "train_datagen = ImageDataGenerator(rescale = 1./255,\n",
    "                                   shear_range = 0.2,\n",
    "                                   zoom_range = 0.2,\n",
    "                                   horizontal_flip = True)\n",
    "\n",
    "test_datagen = ImageDataGenerator(rescale = 1./255)"
   ]
  },
  {
   "cell_type": "code",
   "execution_count": 17,
   "id": "d2795bc0",
   "metadata": {},
   "outputs": [
    {
     "name": "stdout",
     "output_type": "stream",
     "text": [
      "Found 416 images belonging to 2 classes.\n"
     ]
    }
   ],
   "source": [
    "# Make sure you provide the same target size as initialied for the image size\n",
    "\n",
    "training_set = train_datagen.flow_from_directory('Dataset/Train',\n",
    "                                                 target_size = (224, 224),\n",
    "                                                 batch_size = 32,\n",
    "                                                 class_mode = 'categorical')"
   ]
  },
  {
   "cell_type": "code",
   "execution_count": 18,
   "id": "85302413",
   "metadata": {},
   "outputs": [
    {
     "data": {
      "text/plain": [
       "<keras.preprocessing.image.DirectoryIterator at 0x2a1aa401948>"
      ]
     },
     "execution_count": 18,
     "metadata": {},
     "output_type": "execute_result"
    }
   ],
   "source": [
    "training_set"
   ]
  },
  {
   "cell_type": "code",
   "execution_count": 19,
   "id": "988c9ccc",
   "metadata": {},
   "outputs": [
    {
     "name": "stdout",
     "output_type": "stream",
     "text": [
      "Found 134 images belonging to 2 classes.\n"
     ]
    }
   ],
   "source": [
    "test_set = test_datagen.flow_from_directory('Dataset/Test',\n",
    "                                            target_size = (224, 224),\n",
    "                                            batch_size = 32,\n",
    "                                            class_mode = 'categorical')"
   ]
  },
  {
   "cell_type": "code",
   "execution_count": 22,
   "id": "c0425e67",
   "metadata": {},
   "outputs": [
    {
     "name": "stdout",
     "output_type": "stream",
     "text": [
      "Epoch 1/50\n",
      "13/13 [==============================] - 16s 1s/step - loss: 0.2459 - accuracy: 0.9159 - val_loss: 0.6722 - val_accuracy: 0.6567\n",
      "Epoch 2/50\n",
      "13/13 [==============================] - 16s 1s/step - loss: 0.1983 - accuracy: 0.9231 - val_loss: 0.6842 - val_accuracy: 0.6418\n",
      "Epoch 3/50\n",
      "13/13 [==============================] - 16s 1s/step - loss: 0.1810 - accuracy: 0.9375 - val_loss: 0.4547 - val_accuracy: 0.7910\n",
      "Epoch 4/50\n",
      "13/13 [==============================] - 16s 1s/step - loss: 0.1756 - accuracy: 0.9303 - val_loss: 0.4674 - val_accuracy: 0.7910\n",
      "Epoch 5/50\n",
      "13/13 [==============================] - 16s 1s/step - loss: 0.1717 - accuracy: 0.9519 - val_loss: 0.4639 - val_accuracy: 0.7836\n",
      "Epoch 6/50\n",
      "13/13 [==============================] - 16s 1s/step - loss: 0.1291 - accuracy: 0.9543 - val_loss: 0.7519 - val_accuracy: 0.6642\n",
      "Epoch 7/50\n",
      "13/13 [==============================] - 16s 1s/step - loss: 0.1565 - accuracy: 0.9495 - val_loss: 0.6140 - val_accuracy: 0.7537\n",
      "Epoch 8/50\n",
      "13/13 [==============================] - 16s 1s/step - loss: 0.1189 - accuracy: 0.9663 - val_loss: 0.2945 - val_accuracy: 0.8657\n",
      "Epoch 9/50\n",
      "13/13 [==============================] - 16s 1s/step - loss: 0.0950 - accuracy: 0.9688 - val_loss: 0.3577 - val_accuracy: 0.8507\n",
      "Epoch 10/50\n",
      "13/13 [==============================] - 16s 1s/step - loss: 0.1022 - accuracy: 0.9712 - val_loss: 0.4838 - val_accuracy: 0.8358\n",
      "Epoch 11/50\n",
      "13/13 [==============================] - 16s 1s/step - loss: 0.0829 - accuracy: 0.9736 - val_loss: 0.3424 - val_accuracy: 0.8806\n",
      "Epoch 12/50\n",
      "13/13 [==============================] - 16s 1s/step - loss: 0.1018 - accuracy: 0.9591 - val_loss: 0.2903 - val_accuracy: 0.8657\n",
      "Epoch 13/50\n",
      "13/13 [==============================] - 16s 1s/step - loss: 0.0723 - accuracy: 0.9760 - val_loss: 0.2828 - val_accuracy: 0.8806\n",
      "Epoch 14/50\n",
      "13/13 [==============================] - 16s 1s/step - loss: 0.0825 - accuracy: 0.9808 - val_loss: 0.3610 - val_accuracy: 0.8657\n",
      "Epoch 15/50\n",
      "13/13 [==============================] - 16s 1s/step - loss: 0.0768 - accuracy: 0.9808 - val_loss: 0.3109 - val_accuracy: 0.8806\n",
      "Epoch 16/50\n",
      "13/13 [==============================] - 16s 1s/step - loss: 0.0553 - accuracy: 0.9880 - val_loss: 0.2520 - val_accuracy: 0.9030\n",
      "Epoch 17/50\n",
      "13/13 [==============================] - 16s 1s/step - loss: 0.0711 - accuracy: 0.9760 - val_loss: 0.3534 - val_accuracy: 0.8806\n",
      "Epoch 18/50\n",
      "13/13 [==============================] - 16s 1s/step - loss: 0.0596 - accuracy: 0.9904 - val_loss: 0.3298 - val_accuracy: 0.8881\n",
      "Epoch 19/50\n",
      "13/13 [==============================] - 16s 1s/step - loss: 0.0651 - accuracy: 0.9760 - val_loss: 0.4420 - val_accuracy: 0.8582\n",
      "Epoch 20/50\n",
      "13/13 [==============================] - 16s 1s/step - loss: 0.0635 - accuracy: 0.9760 - val_loss: 0.2728 - val_accuracy: 0.8955\n",
      "Epoch 21/50\n",
      "13/13 [==============================] - 19s 1s/step - loss: 0.0397 - accuracy: 0.9904 - val_loss: 0.3877 - val_accuracy: 0.8806\n",
      "Epoch 22/50\n",
      "13/13 [==============================] - 16s 1s/step - loss: 0.0313 - accuracy: 0.9928 - val_loss: 0.2018 - val_accuracy: 0.9254\n",
      "Epoch 23/50\n",
      "13/13 [==============================] - 16s 1s/step - loss: 0.0361 - accuracy: 0.9928 - val_loss: 0.6367 - val_accuracy: 0.8358\n",
      "Epoch 24/50\n",
      "13/13 [==============================] - 16s 1s/step - loss: 0.0636 - accuracy: 0.9760 - val_loss: 0.2623 - val_accuracy: 0.9030\n",
      "Epoch 25/50\n",
      "13/13 [==============================] - 16s 1s/step - loss: 0.0464 - accuracy: 0.9880 - val_loss: 0.3228 - val_accuracy: 0.8955\n",
      "Epoch 26/50\n",
      "13/13 [==============================] - 16s 1s/step - loss: 0.0554 - accuracy: 0.9832 - val_loss: 0.2228 - val_accuracy: 0.9030\n",
      "Epoch 27/50\n",
      "13/13 [==============================] - 16s 1s/step - loss: 0.0545 - accuracy: 0.9832 - val_loss: 0.3053 - val_accuracy: 0.8881\n",
      "Epoch 28/50\n",
      "13/13 [==============================] - 16s 1s/step - loss: 0.0276 - accuracy: 0.9952 - val_loss: 0.2680 - val_accuracy: 0.9104\n",
      "Epoch 29/50\n",
      "13/13 [==============================] - 16s 1s/step - loss: 0.0589 - accuracy: 0.9880 - val_loss: 0.2783 - val_accuracy: 0.9104\n",
      "Epoch 30/50\n",
      "13/13 [==============================] - 16s 1s/step - loss: 0.0356 - accuracy: 0.9904 - val_loss: 0.2629 - val_accuracy: 0.8955\n",
      "Epoch 31/50\n",
      "13/13 [==============================] - 16s 1s/step - loss: 0.0420 - accuracy: 0.9904 - val_loss: 0.2493 - val_accuracy: 0.9030\n",
      "Epoch 32/50\n",
      "13/13 [==============================] - 16s 1s/step - loss: 0.0272 - accuracy: 0.9928 - val_loss: 0.2254 - val_accuracy: 0.9104\n",
      "Epoch 33/50\n",
      "13/13 [==============================] - 16s 1s/step - loss: 0.0448 - accuracy: 0.9856 - val_loss: 0.3617 - val_accuracy: 0.8881\n",
      "Epoch 34/50\n",
      "13/13 [==============================] - 16s 1s/step - loss: 0.0237 - accuracy: 0.9952 - val_loss: 0.1904 - val_accuracy: 0.9328\n",
      "Epoch 35/50\n",
      "13/13 [==============================] - 16s 1s/step - loss: 0.0285 - accuracy: 0.9928 - val_loss: 0.5327 - val_accuracy: 0.8657\n",
      "Epoch 36/50\n",
      "13/13 [==============================] - 16s 1s/step - loss: 0.0402 - accuracy: 0.9904 - val_loss: 0.1773 - val_accuracy: 0.9328\n",
      "Epoch 37/50\n",
      "13/13 [==============================] - 16s 1s/step - loss: 0.0341 - accuracy: 0.9904 - val_loss: 0.2643 - val_accuracy: 0.9104\n",
      "Epoch 38/50\n",
      "13/13 [==============================] - 16s 1s/step - loss: 0.0317 - accuracy: 0.9952 - val_loss: 0.5502 - val_accuracy: 0.8731\n",
      "Epoch 39/50\n",
      "13/13 [==============================] - 16s 1s/step - loss: 0.0537 - accuracy: 0.9856 - val_loss: 0.1855 - val_accuracy: 0.9328\n",
      "Epoch 40/50\n",
      "13/13 [==============================] - 17s 1s/step - loss: 0.0166 - accuracy: 0.9976 - val_loss: 0.4920 - val_accuracy: 0.8806\n",
      "Epoch 41/50\n",
      "13/13 [==============================] - 17s 1s/step - loss: 0.0200 - accuracy: 0.9952 - val_loss: 0.2312 - val_accuracy: 0.9403\n",
      "Epoch 42/50\n",
      "13/13 [==============================] - 16s 1s/step - loss: 0.0718 - accuracy: 0.9832 - val_loss: 0.3774 - val_accuracy: 0.8806\n",
      "Epoch 43/50\n",
      "13/13 [==============================] - 17s 1s/step - loss: 0.0470 - accuracy: 0.9880 - val_loss: 0.3512 - val_accuracy: 0.8806\n",
      "Epoch 44/50\n",
      "13/13 [==============================] - 16s 1s/step - loss: 0.0217 - accuracy: 0.9952 - val_loss: 0.1975 - val_accuracy: 0.9328\n",
      "Epoch 45/50\n",
      "13/13 [==============================] - 16s 1s/step - loss: 0.0254 - accuracy: 0.9904 - val_loss: 0.6641 - val_accuracy: 0.8657\n",
      "Epoch 46/50\n",
      "13/13 [==============================] - 16s 1s/step - loss: 0.0338 - accuracy: 0.9904 - val_loss: 0.3169 - val_accuracy: 0.9030\n",
      "Epoch 47/50\n",
      "13/13 [==============================] - 16s 1s/step - loss: 0.0178 - accuracy: 0.9952 - val_loss: 0.2097 - val_accuracy: 0.9328\n",
      "Epoch 48/50\n",
      "13/13 [==============================] - 16s 1s/step - loss: 0.0252 - accuracy: 0.9952 - val_loss: 0.5515 - val_accuracy: 0.8806\n",
      "Epoch 49/50\n",
      "13/13 [==============================] - 16s 1s/step - loss: 0.0208 - accuracy: 0.9952 - val_loss: 0.2004 - val_accuracy: 0.9179\n",
      "Epoch 50/50\n",
      "13/13 [==============================] - 16s 1s/step - loss: 0.0128 - accuracy: 0.9976 - val_loss: 0.3011 - val_accuracy: 0.9104\n"
     ]
    }
   ],
   "source": [
    "# Fit the model & Run the cell and It will take some time to execute\n",
    "\n",
    "r = model.fit(\n",
    "  training_set,\n",
    "  validation_data=test_set,\n",
    "  epochs=50,\n",
    "  steps_per_epoch=len(training_set),\n",
    "  validation_steps=len(test_set)\n",
    ")"
   ]
  },
  {
   "cell_type": "code",
   "execution_count": 23,
   "id": "7b66729a",
   "metadata": {},
   "outputs": [
    {
     "data": {
      "image/png": "[encoded data removed]",
      "text/plain": [
       "<Figure size 640x480 with 1 Axes>"
      ]
     },
     "metadata": {},
     "output_type": "display_data"
    },
    {
     "data": {
      "image/png": "[encoded data removed]",
      "text/plain": [
       "<Figure size 640x480 with 1 Axes>"
      ]
     },
     "metadata": {},
     "output_type": "display_data"
    },
    {
     "data": {
      "text/plain": [
       "<Figure size 640x480 with 0 Axes>"
      ]
     },
     "metadata": {},
     "output_type": "display_data"
    }
   ],
   "source": [
    "# Plot the loss values\n",
    "\n",
    "plt.plot(r.history['loss'], label='train loss')\n",
    "plt.plot(r.history['val_loss'], label='val loss')\n",
    "plt.legend()\n",
    "plt.show()\n",
    "plt.savefig('LossVal_loss')\n",
    "\n",
    "# plot the accuracy values\n",
    "\n",
    "plt.plot(r.history['accuracy'], label='train acc')\n",
    "plt.plot(r.history['val_accuracy'], label='val acc')\n",
    "plt.legend()\n",
    "plt.show()\n",
    "plt.savefig('AccVal_acc')\n"
   ]
  },
  {
   "cell_type": "code",
   "execution_count": 24,
   "id": "0fc8ca90",
   "metadata": {},
   "outputs": [],
   "source": [
    "# Save it as a h5 file\n",
    "\n",
    "\n",
    "from tensorflow.keras.models import load_model\n",
    "\n",
    "model.save('model_vgg19.h5')"
   ]
  },
  {
   "cell_type": "code",
   "execution_count": 25,
   "id": "3ab9f429",
   "metadata": {},
   "outputs": [
    {
     "name": "stdout",
     "output_type": "stream",
     "text": [
      "5/5 [==============================] - 1s 203ms/step\n"
     ]
    }
   ],
   "source": [
    "y_pred = model.predict(test_set)"
   ]
  },
  {
   "cell_type": "code",
   "execution_count": 26,
   "id": "51cee0e8",
   "metadata": {},
   "outputs": [
    {
     "data": {
      "text/plain": [
       "array([[3.5539772e-02, 9.6446025e-01],\n",
       "       [1.0000000e+00, 3.8211409e-12],\n",
       "       [3.3221257e-04, 9.9966776e-01],\n",
       "       [9.9995351e-01, 4.6531208e-05],\n",
       "       [8.1885678e-01, 1.8114318e-01],\n",
       "       [7.3084631e-04, 9.9926919e-01],\n",
       "       [9.9999857e-01, 1.4533347e-06],\n",
       "       [5.3964417e-02, 9.4603556e-01],\n",
       "       [3.3012502e-02, 9.6698749e-01],\n",
       "       [1.8504679e-02, 9.8149532e-01],\n",
       "       [9.7444284e-01, 2.5557192e-02],\n",
       "       [8.3509430e-02, 9.1649055e-01],\n",
       "       [1.0000000e+00, 7.3296609e-09],\n",
       "       [6.6398515e-04, 9.9933594e-01],\n",
       "       [4.3727434e-03, 9.9562728e-01],\n",
       "       [1.0664139e-03, 9.9893361e-01],\n",
       "       [1.0000000e+00, 4.3621475e-09],\n",
       "       [1.0000000e+00, 1.7391788e-12],\n",
       "       [9.9998987e-01, 1.0138709e-05],\n",
       "       [9.9999976e-01, 1.8020218e-07],\n",
       "       [9.9994063e-01, 5.9371945e-05],\n",
       "       [1.0000000e+00, 6.2885822e-11],\n",
       "       [1.8065615e-03, 9.9819344e-01],\n",
       "       [6.9401704e-02, 9.3059826e-01],\n",
       "       [9.2431465e-03, 9.9075681e-01],\n",
       "       [5.0061065e-01, 4.9938929e-01],\n",
       "       [9.9999678e-01, 3.2098769e-06],\n",
       "       [1.2831027e-03, 9.9871695e-01],\n",
       "       [9.5012641e-01, 4.9873587e-02],\n",
       "       [2.8811521e-03, 9.9711883e-01],\n",
       "       [1.7214024e-03, 9.9827862e-01],\n",
       "       [2.5355550e-03, 9.9746442e-01],\n",
       "       [9.9938941e-01, 6.1055709e-04],\n",
       "       [1.3076687e-03, 9.9869233e-01],\n",
       "       [1.0000000e+00, 3.5541983e-26],\n",
       "       [1.4109771e-03, 9.9858898e-01],\n",
       "       [1.0000000e+00, 5.6891258e-10],\n",
       "       [1.6078325e-03, 9.9839216e-01],\n",
       "       [9.9999952e-01, 4.5478512e-07],\n",
       "       [1.1742312e-01, 8.8257688e-01],\n",
       "       [9.9998450e-01, 1.5439564e-05],\n",
       "       [1.4046031e-02, 9.8595399e-01],\n",
       "       [9.9999785e-01, 2.1622786e-06],\n",
       "       [1.0000000e+00, 1.1547195e-12],\n",
       "       [1.0000000e+00, 1.6678579e-10],\n",
       "       [4.1881823e-03, 9.9581182e-01],\n",
       "       [9.8319590e-01, 1.6804097e-02],\n",
       "       [8.0976676e-04, 9.9919027e-01],\n",
       "       [9.9993587e-01, 6.4146814e-05],\n",
       "       [2.9564810e-01, 7.0435190e-01],\n",
       "       [9.9998796e-01, 1.2024134e-05],\n",
       "       [1.0000000e+00, 1.3166950e-09],\n",
       "       [9.9986267e-01, 1.3731771e-04],\n",
       "       [9.9999893e-01, 1.0644465e-06],\n",
       "       [9.9999011e-01, 9.9420040e-06],\n",
       "       [8.1981334e-04, 9.9918014e-01],\n",
       "       [9.9998724e-01, 1.2710682e-05],\n",
       "       [9.9995017e-01, 4.9770460e-05],\n",
       "       [3.0686066e-04, 9.9969316e-01],\n",
       "       [1.0000000e+00, 5.5890622e-12],\n",
       "       [2.5839135e-01, 7.4160862e-01],\n",
       "       [9.9995244e-01, 4.7508358e-05],\n",
       "       [5.0580537e-01, 4.9419463e-01],\n",
       "       [9.9996865e-01, 3.1370128e-05],\n",
       "       [1.0000000e+00, 2.9225488e-23],\n",
       "       [7.1750447e-04, 9.9928254e-01],\n",
       "       [9.9861217e-01, 1.3878385e-03],\n",
       "       [1.0000000e+00, 2.6671580e-09],\n",
       "       [1.0000000e+00, 1.1024045e-12],\n",
       "       [9.9999905e-01, 9.3268915e-07],\n",
       "       [1.0000000e+00, 2.1511937e-09],\n",
       "       [1.0000000e+00, 1.4250883e-28],\n",
       "       [1.5257397e-02, 9.8474264e-01],\n",
       "       [9.9999976e-01, 2.6907645e-07],\n",
       "       [9.9989462e-01, 1.0540766e-04],\n",
       "       [1.0000000e+00, 1.0748525e-19],\n",
       "       [2.8049809e-01, 7.1950191e-01],\n",
       "       [4.4658142e-03, 9.9553418e-01],\n",
       "       [9.9999809e-01, 1.9579327e-06],\n",
       "       [1.7066611e-01, 8.2933390e-01],\n",
       "       [1.0000000e+00, 1.1304535e-09],\n",
       "       [9.9998486e-01, 1.5128873e-05],\n",
       "       [9.5828000e-04, 9.9904174e-01],\n",
       "       [9.1867836e-04, 9.9908125e-01],\n",
       "       [1.2504818e-02, 9.8749524e-01],\n",
       "       [9.9999928e-01, 7.7355486e-07],\n",
       "       [1.0000000e+00, 3.4899852e-29],\n",
       "       [9.9999750e-01, 2.5055510e-06],\n",
       "       [1.0000000e+00, 2.9693084e-08],\n",
       "       [4.7980946e-02, 9.5201904e-01],\n",
       "       [3.0544823e-01, 6.9455177e-01],\n",
       "       [9.9988890e-01, 1.1110739e-04],\n",
       "       [8.9076115e-03, 9.9109238e-01],\n",
       "       [9.9993849e-01, 6.1537598e-05],\n",
       "       [5.8491802e-01, 4.1508195e-01],\n",
       "       [9.9995661e-01, 4.3381464e-05],\n",
       "       [9.9993765e-01, 6.2386083e-05],\n",
       "       [9.9999189e-01, 8.1608114e-06],\n",
       "       [9.9998140e-01, 1.8545803e-05],\n",
       "       [1.2592635e-03, 9.9874073e-01],\n",
       "       [9.9999690e-01, 3.1325494e-06],\n",
       "       [1.2602436e-02, 9.8739761e-01],\n",
       "       [1.0000000e+00, 7.1549429e-16],\n",
       "       [4.3970525e-01, 5.6029481e-01],\n",
       "       [9.9993539e-01, 6.4577427e-05],\n",
       "       [6.0467138e-03, 9.9395329e-01],\n",
       "       [9.9404836e-01, 5.9516788e-03],\n",
       "       [9.9998748e-01, 1.2575607e-05],\n",
       "       [1.2506205e-01, 8.7493801e-01],\n",
       "       [1.0000000e+00, 8.1162697e-14],\n",
       "       [1.0000000e+00, 1.5803702e-18],\n",
       "       [2.9822730e-04, 9.9970180e-01],\n",
       "       [9.9956757e-01, 4.3237070e-04],\n",
       "       [1.0251651e-03, 9.9897480e-01],\n",
       "       [9.9999976e-01, 2.4175816e-07],\n",
       "       [1.0000000e+00, 5.2762889e-08],\n",
       "       [9.9999976e-01, 1.8230391e-07],\n",
       "       [9.9062937e-01, 9.3706138e-03],\n",
       "       [6.7559336e-03, 9.9324411e-01],\n",
       "       [9.9999893e-01, 1.0296534e-06],\n",
       "       [1.0919404e-01, 8.9080602e-01],\n",
       "       [9.9999988e-01, 1.3739556e-07],\n",
       "       [9.9897927e-01, 1.0207474e-03],\n",
       "       [7.4379141e-03, 9.9256212e-01],\n",
       "       [1.0000000e+00, 9.6424424e-11],\n",
       "       [9.9970192e-01, 2.9802806e-04],\n",
       "       [8.4563833e-01, 1.5436168e-01],\n",
       "       [1.0000000e+00, 8.6726577e-15],\n",
       "       [8.7844878e-03, 9.9121547e-01],\n",
       "       [2.3699677e-02, 9.7630036e-01],\n",
       "       [1.6795141e-03, 9.9832052e-01],\n",
       "       [3.3230510e-01, 6.6769487e-01],\n",
       "       [5.0747715e-04, 9.9949253e-01],\n",
       "       [6.7776698e-04, 9.9932230e-01]], dtype=float32)"
      ]
     },
     "execution_count": 26,
     "metadata": {},
     "output_type": "execute_result"
    }
   ],
   "source": [
    "y_pred"
   ]
  },
  {
   "cell_type": "code",
   "execution_count": 27,
   "id": "68ce0f37",
   "metadata": {},
   "outputs": [],
   "source": [
    "import numpy as np\n",
    "y_pred = np.argmax(y_pred, axis=1)"
   ]
  },
  {
   "cell_type": "code",
   "execution_count": 28,
   "id": "f3372528",
   "metadata": {},
   "outputs": [
    {
     "data": {
      "text/plain": [
       "array([1, 0, 1, 0, 0, 1, 0, 1, 1, 1, 0, 1, 0, 1, 1, 1, 0, 0, 0, 0, 0, 0,\n",
       "       1, 1, 1, 0, 0, 1, 0, 1, 1, 1, 0, 1, 0, 1, 0, 1, 0, 1, 0, 1, 0, 0,\n",
       "       0, 1, 0, 1, 0, 1, 0, 0, 0, 0, 0, 1, 0, 0, 1, 0, 1, 0, 0, 0, 0, 1,\n",
       "       0, 0, 0, 0, 0, 0, 1, 0, 0, 0, 1, 1, 0, 1, 0, 0, 1, 1, 1, 0, 0, 0,\n",
       "       0, 1, 1, 0, 1, 0, 0, 0, 0, 0, 0, 1, 0, 1, 0, 1, 0, 1, 0, 0, 1, 0,\n",
       "       0, 1, 0, 1, 0, 0, 0, 0, 1, 0, 1, 0, 0, 1, 0, 0, 0, 0, 1, 1, 1, 1,\n",
       "       1, 1], dtype=int64)"
      ]
     },
     "execution_count": 28,
     "metadata": {},
     "output_type": "execute_result"
    }
   ],
   "source": [
    "y_pred"
   ]
  },
  {
   "cell_type": "code",
   "execution_count": 29,
   "id": "559952f8",
   "metadata": {},
   "outputs": [],
   "source": [
    "from tensorflow.keras.models import load_model\n",
    "from tensorflow.keras.preprocessing import image"
   ]
  },
  {
   "cell_type": "code",
   "execution_count": 30,
   "id": "512fa036",
   "metadata": {},
   "outputs": [],
   "source": [
    "model = load_model(\"model_vgg19.h5\")"
   ]
  },
  {
   "cell_type": "code",
   "execution_count": 31,
   "id": "d5acd78a",
   "metadata": {},
   "outputs": [],
   "source": [
    "img = image.load_img(\"Dataset/Test/Uninfected/2.png\", target_size=(224,224))"
   ]
  },
  {
   "cell_type": "code",
   "execution_count": 32,
   "id": "c213bb5c",
   "metadata": {},
   "outputs": [
    {
     "data": {
      "text/plain": [
       "array([[[0., 0., 0.],\n",
       "        [0., 0., 0.],\n",
       "        [0., 0., 0.],\n",
       "        ...,\n",
       "        [0., 0., 0.],\n",
       "        [0., 0., 0.],\n",
       "        [0., 0., 0.]],\n",
       "\n",
       "       [[0., 0., 0.],\n",
       "        [0., 0., 0.],\n",
       "        [0., 0., 0.],\n",
       "        ...,\n",
       "        [0., 0., 0.],\n",
       "        [0., 0., 0.],\n",
       "        [0., 0., 0.]],\n",
       "\n",
       "       [[0., 0., 0.],\n",
       "        [0., 0., 0.],\n",
       "        [0., 0., 0.],\n",
       "        ...,\n",
       "        [0., 0., 0.],\n",
       "        [0., 0., 0.],\n",
       "        [0., 0., 0.]],\n",
       "\n",
       "       ...,\n",
       "\n",
       "       [[0., 0., 0.],\n",
       "        [0., 0., 0.],\n",
       "        [0., 0., 0.],\n",
       "        ...,\n",
       "        [0., 0., 0.],\n",
       "        [0., 0., 0.],\n",
       "        [0., 0., 0.]],\n",
       "\n",
       "       [[0., 0., 0.],\n",
       "        [0., 0., 0.],\n",
       "        [0., 0., 0.],\n",
       "        ...,\n",
       "        [0., 0., 0.],\n",
       "        [0., 0., 0.],\n",
       "        [0., 0., 0.]],\n",
       "\n",
       "       [[0., 0., 0.],\n",
       "        [0., 0., 0.],\n",
       "        [0., 0., 0.],\n",
       "        ...,\n",
       "        [0., 0., 0.],\n",
       "        [0., 0., 0.],\n",
       "        [0., 0., 0.]]], dtype=float32)"
      ]
     },
     "execution_count": 32,
     "metadata": {},
     "output_type": "execute_result"
    }
   ],
   "source": [
    "x = image.img_to_array(img)\n",
    "x"
   ]
  },
  {
   "cell_type": "code",
   "execution_count": 33,
   "id": "96387686",
   "metadata": {},
   "outputs": [
    {
     "data": {
      "text/plain": [
       "(224, 224, 3)"
      ]
     },
     "execution_count": 33,
     "metadata": {},
     "output_type": "execute_result"
    }
   ],
   "source": [
    "x.shape"
   ]
  },
  {
   "cell_type": "code",
   "execution_count": 34,
   "id": "e17e744d",
   "metadata": {},
   "outputs": [],
   "source": [
    "x = x/255"
   ]
  },
  {
   "cell_type": "code",
   "execution_count": 35,
   "id": "e2ea57f4",
   "metadata": {},
   "outputs": [
    {
     "data": {
      "text/plain": [
       "(1, 224, 224, 3)"
      ]
     },
     "execution_count": 35,
     "metadata": {},
     "output_type": "execute_result"
    }
   ],
   "source": [
    "x = np.expand_dims(x, axis=0)\n",
    "img_data = preprocess_input(x)\n",
    "img_data.shape"
   ]
  },
  {
   "cell_type": "code",
   "execution_count": 36,
   "id": "3f1cf2d5",
   "metadata": {},
   "outputs": [
    {
     "name": "stdout",
     "output_type": "stream",
     "text": [
      "1/1 [==============================] - 0s 110ms/step\n"
     ]
    },
    {
     "data": {
      "text/plain": [
       "array([[1., 0.]], dtype=float32)"
      ]
     },
     "execution_count": 36,
     "metadata": {},
     "output_type": "execute_result"
    }
   ],
   "source": [
    "model.predict(img_data)"
   ]
  },
  {
   "cell_type": "code",
   "execution_count": 37,
   "id": "db8481f9",
   "metadata": {},
   "outputs": [
    {
     "name": "stdout",
     "output_type": "stream",
     "text": [
      "1/1 [==============================] - 0s 50ms/step\n"
     ]
    }
   ],
   "source": [
    "a = np.argmax(model.predict(img_data), axis=1)"
   ]
  },
  {
   "cell_type": "code",
   "execution_count": 38,
   "id": "e00c8a66",
   "metadata": {},
   "outputs": [
    {
     "name": "stdout",
     "output_type": "stream",
     "text": [
      "Infected\n"
     ]
    }
   ],
   "source": [
    "if(a==1):\n",
    "    print(\"Uninfected\")\n",
    "else:\n",
    "    print(\"Infected\")"
   ]
  },
  {
   "cell_type": "code",
   "execution_count": null,
   "id": "b1e64461",
   "metadata": {},
   "outputs": [],
   "source": []
  },
  {
   "cell_type": "code",
   "execution_count": null,
   "id": "2ece84e6",
   "metadata": {},
   "outputs": [],
   "source": []
  }
 ],
 "metadata": {
  "kernelspec": {
   "display_name": "Python 3 (ipykernel)",
   "language": "python",
   "name": "python3"
  },
  "language_info": {
   "codemirror_mode": {
    "name": "ipython",
    "version": 3
   },
   "file_extension": ".py",
   "mimetype": "text/x-python",
   "name": "python",
   "nbconvert_exporter": "python",
   "pygments_lexer": "ipython3",
   "version": "3.7.15"
  }
 },
 "nbformat": 4,
 "nbformat_minor": 5
}
